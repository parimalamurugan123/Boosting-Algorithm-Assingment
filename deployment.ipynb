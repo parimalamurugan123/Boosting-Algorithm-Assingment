{
 "cells": [
  {
   "cell_type": "code",
   "execution_count": 1,
   "id": "b244e21f-08ce-4a66-b1c2-d39948a7562b",
   "metadata": {},
   "outputs": [],
   "source": [
    "import pickle"
   ]
  },
  {
   "cell_type": "code",
   "execution_count": 2,
   "id": "9f593b6e-70b0-4967-a307-6a63e1db9821",
   "metadata": {},
   "outputs": [],
   "source": [
    "loaded_model=pickle.load(open(\"finalized_model_linear.sav\",'rb'))\n",
    "result=loaded_model.predict([[123,456,789,987,654]])"
   ]
  },
  {
   "cell_type": "code",
   "execution_count": 3,
   "id": "791eb81d-5416-47dd-ac42-15436ac719c6",
   "metadata": {},
   "outputs": [
    {
     "data": {
      "text/plain": [
       "array([50431.97677728])"
      ]
     },
     "execution_count": 3,
     "metadata": {},
     "output_type": "execute_result"
    }
   ],
   "source": [
    "result"
   ]
  },
  {
   "cell_type": "code",
   "execution_count": null,
   "id": "93c22230-97d2-47a8-a1c1-52f809db880b",
   "metadata": {},
   "outputs": [],
   "source": []
  }
 ],
 "metadata": {
  "kernelspec": {
   "display_name": "Python 3 (ipykernel)",
   "language": "python",
   "name": "python3"
  },
  "language_info": {
   "codemirror_mode": {
    "name": "ipython",
    "version": 3
   },
   "file_extension": ".py",
   "mimetype": "text/x-python",
   "name": "python",
   "nbconvert_exporter": "python",
   "pygments_lexer": "ipython3",
   "version": "3.12.4"
  }
 },
 "nbformat": 4,
 "nbformat_minor": 5
}
